{
  "nbformat": 4,
  "nbformat_minor": 0,
  "metadata": {
    "colab": {
      "provenance": [],
      "authorship_tag": "ABX9TyMlkZUJHSAdj5GdosI8ZOOb",
      "include_colab_link": true
    },
    "kernelspec": {
      "name": "python3",
      "display_name": "Python 3"
    },
    "language_info": {
      "name": "python"
    }
  },
  "cells": [
    {
      "cell_type": "markdown",
      "metadata": {
        "id": "view-in-github",
        "colab_type": "text"
      },
      "source": [
        "<a href=\"https://colab.research.google.com/github/ishaanand18/GenAI/blob/main/main.ipynb\" target=\"_parent\"><img src=\"https://colab.research.google.com/assets/colab-badge.svg\" alt=\"Open In Colab\"/></a>"
      ]
    },
    {
      "cell_type": "code",
      "execution_count": null,
      "metadata": {
        "id": "2LURjCc1-wey",
        "outputId": "edef5f55-0a6d-49ea-a3fa-f7b65740105b",
        "colab": {
          "base_uri": "https://localhost:8080/"
        }
      },
      "outputs": [
        {
          "output_type": "stream",
          "name": "stdout",
          "text": [
            "Resume: Resume 1:\n",
            "\n",
            "Name: John Doe\n",
            "Title: AI Engineer\n",
            "Experience:\n",
            "\n",
            "3 years as an AI Engineer at TechCorp\n",
            "Developed machine learning models in Python\n",
            "Expertise in TensorFlow, Keras, and data science\n",
            "Skills: Python, TensorFlow, Machine Learning, Data Science, Deep Learning\n",
            "Education: B.Tech in Computer Science\n",
            "Score: 0.6192232162655378\n",
            "Questions: ['Can you explain your experience with Python?', 'Can you explain your experience with machine learning?', 'Can you explain your experience with data science?']\n",
            "\n",
            "Resume: Resume 3:\n",
            "Name: Michael Brown\n",
            "Title: Data Scientist\n",
            "Experience:\n",
            "\n",
            "5 years as a Data Scientist at DataMinds\n",
            "Analyzed large datasets using Python and R\n",
            "Implemented machine learning algorithms\n",
            "Skills: Python, R, Machine Learning, Data Analysis, SQL\n",
            "Education: M.Sc. in Data Science\n",
            "Score: 0.40851024130887587\n",
            "Questions: ['Can you explain your experience with Python?', 'Can you explain your experience with machine learning?']\n",
            "\n",
            "Resume: \n",
            "    Resume 2:\n",
            "\n",
            "Name: Jane Smith\n",
            "Title: Software Developer\n",
            "Experience:\n",
            "\n",
            "4 years as a Software Developer at CloudBase\n",
            "Specialized in Java and cloud computing\n",
            "Built scalable cloud applications\n",
            "Skills: Java, Cloud Computing, REST APIs, Docker\n",
            "Education: B.Sc. in Software Engineering\n",
            "    \n",
            "Score: 0.019255917150078974\n",
            "Questions: ['Can you tell us about your relevant experience?']\n",
            "\n"
          ]
        }
      ],
      "source": [
        "from sklearn.feature_extraction.text import TfidfVectorizer\n",
        "from sklearn.metrics.pairwise import cosine_similarity\n",
        "import random\n",
        "\n",
        "# Sample Data\n",
        "job_description = \"Looking for an AI Engineer with experience in machine learning, Python, and data science.\"\n",
        "resumes = [\n",
        "    \"\"\"Resume 1:\n",
        "\n",
        "Name: John Doe\n",
        "Title: AI Engineer\n",
        "Experience:\n",
        "\n",
        "3 years as an AI Engineer at TechCorp\n",
        "Developed machine learning models in Python\n",
        "Expertise in TensorFlow, Keras, and data science\n",
        "Skills: Python, TensorFlow, Machine Learning, Data Science, Deep Learning\n",
        "Education: B.Tech in Computer Science\"\"\",\n",
        "    \"\"\"\n",
        "    Resume 2:\n",
        "\n",
        "Name: Jane Smith\n",
        "Title: Software Developer\n",
        "Experience:\n",
        "\n",
        "4 years as a Software Developer at CloudBase\n",
        "Specialized in Java and cloud computing\n",
        "Built scalable cloud applications\n",
        "Skills: Java, Cloud Computing, REST APIs, Docker\n",
        "Education: B.Sc. in Software Engineering\n",
        "    \"\"\",\n",
        "    \"\"\"Resume 3:\n",
        "Name: Michael Brown\n",
        "Title: Data Scientist\n",
        "Experience:\n",
        "\n",
        "5 years as a Data Scientist at DataMinds\n",
        "Analyzed large datasets using Python and R\n",
        "Implemented machine learning algorithms\n",
        "Skills: Python, R, Machine Learning, Data Analysis, SQL\n",
        "Education: M.Sc. in Data Science\"\"\"\n",
        "]\n",
        "\n",
        "# Automated Resume Matching and Ranking\n",
        "def match_resumes(job_description, resumes):\n",
        "    vectorizer = TfidfVectorizer(stop_words='english')\n",
        "    tfidf_matrix = vectorizer.fit_transform([job_description] + resumes)\n",
        "    cosine_similarities = cosine_similarity(tfidf_matrix[0:1], tfidf_matrix[1:])\n",
        "    ranked_resumes = sorted(list(zip(resumes, cosine_similarities[0])), key=lambda x: x[1], reverse=True)\n",
        "    return ranked_resumes\n",
        "\n",
        "ranked_resumes = match_resumes(job_description, resumes)\n",
        "\n",
        "# Personalized Interview Question Generation\n",
        "def generate_interview_questions(resume, job_description):\n",
        "    keywords = ['Python', 'machine learning', 'data science', 'deep learning']\n",
        "    questions = [\n",
        "        f\"Can you explain your experience with {keyword}?\" for keyword in keywords if keyword in resume\n",
        "    ]\n",
        "    if not questions:\n",
        "        questions.append(\"Can you tell us about your relevant experience?\")\n",
        "    return questions\n",
        "\n",
        "# Example output\n",
        "for resume, score in ranked_resumes:\n",
        "    print(f\"Resume: {resume}\\nScore: {score}\\nQuestions: {generate_interview_questions(resume, job_description)}\\n\")"
      ]
    }
  ]
}